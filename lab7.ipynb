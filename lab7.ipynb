{
 "cells": [
  {
   "cell_type": "markdown",
   "id": "fdeff819",
   "metadata": {},
   "source": [
    "# Sinh Viên thực hiện Lab 7 ở Đây"
   ]
  },
  {
   "cell_type": "markdown",
   "id": "acc5d7dc",
   "metadata": {},
   "source": [
    "## Lab 7 - Bài 1"
   ]
  },
  {
   "cell_type": "code",
   "execution_count": null,
   "id": "001e0507",
   "metadata": {},
   "outputs": [
    {
     "name": "stdout",
     "output_type": "stream",
     "text": [
      "Tự nguyện\n",
      "Trương Quốc Khánh\n",
      "Nếu là chim, tôi sẽ là loài bồ câu trắng\n",
      "Nếu là hoa, tôi sẽ là một đóa hướng dương\n",
      "Nếu là mây, tôi sẽ là một vầng mây ấm\n",
      "Là người, tôi sẽ chết cho quê hương.\n",
      "\n",
      "Là chim, tôi sẽ cất cao đôi cánh mềm\n",
      "Từ nam ra ngoài bắc báo tin nối liền\n",
      "Là hoa, tôi nở tình yêu ban sớm\n",
      "Cùng muôn trái tim ngất ngây hoà bình.\n",
      "\n",
      "Là mây, theo làn gió tung bay khắp trời\n",
      "Nghìn xưa oai hùng đó tôi xin tiếp lời\n",
      "Là người, xin một lần khi nằm xuống\n",
      "Nhìn anh em đứng lên phất cao ngọn cờ.\n",
      "\n",
      "Tên bài thơ: Tự nguyện\n",
      "Tên tác giả: Trương Quốc Khánh\n"
     ]
    }
   ],
   "source": [
    "# Code lab 7 bài 1 ở đây\n",
    "file = open(r\"D:\\FPT\\DAT2011-Python\\Bài Lab-20250916T025711Z-1-001\\DAT2011 - Lab 7 - Resource.txt\", \"r\", encoding=\"utf-8\")\n",
    "noidung = file.read()\n",
    "print(noidung)\n",
    "#Xuất ra tên bài thơ\n",
    "ten_bai_tho = noidung[:9]\n",
    "print(f\"\\nTên bài thơ: {ten_bai_tho}\")\n",
    "#Đóng và xuất ra tên tác giả\n",
    "file.seek(0)\n",
    "dong_thu_nhat = file.readline()\n",
    "ten_tac_gia = file.readline()\n",
    "print(f\"Tên tác giả: {ten_tac_gia.strip()}\")"
   ]
  },
  {
   "cell_type": "markdown",
   "id": "c0835310",
   "metadata": {},
   "source": [
    "## Lab 7 - Bài 2"
   ]
  },
  {
   "cell_type": "code",
   "execution_count": null,
   "id": "fa9cb39f",
   "metadata": {},
   "outputs": [
    {
     "name": "stdout",
     "output_type": "stream",
     "text": [
      "Đã ghi nội dung vào file Lab7-Exercise2.txt thành công\n"
     ]
    }
   ],
   "source": [
    "# Code lab 7  bài 2 ở đây\n",
    "filename = \"Lab7-Exercise2.txt\"\n",
    "content_to_write = \"\"\"....\n",
    "Nếu một mai tôi có bay lên trời\n",
    "Thì người ơi tôi đã sống thảnh thơi\n",
    "Nếu một mai tôi có đi qua đời\n",
    "Thì người ơi tôi đã sống rất tuyệt vời\"\"\"\n",
    "try: \n",
    "    with open(filename, \"w\", encoding=\"utf-8\") as file:\n",
    "        file.write(content_to_write)\n",
    "    print(f\"Đã ghi nội dung vào file {filename} thành công\")\n",
    "except Exception as e:\n",
    "    print(f\"Đã xảy ra lỗi: {e}\")"
   ]
  },
  {
   "cell_type": "markdown",
   "id": "0f2483fe",
   "metadata": {},
   "source": [
    "## Lab 7 - Bài 3"
   ]
  },
  {
   "cell_type": "code",
   "execution_count": null,
   "id": "7034990b",
   "metadata": {},
   "outputs": [
    {
     "name": "stdout",
     "output_type": "stream",
     "text": [
      "\n",
      "--- Nhà thơ thứ 1 ---\n",
      "\n",
      "--- Nhà thơ thứ 2 ---\n",
      "\n",
      "--- Nhà thơ thứ 3 ---\n",
      "\n",
      "--- Nhà thơ thứ 4 ---\n",
      "\n",
      "--- Nhà thơ thứ 5 ---\n",
      "\n",
      " Đã ghi 5 nhà thơ vào file 'hehe.csv' thành công!\n"
     ]
    }
   ],
   "source": [
    "# Code lab 7  bài 3 ở đây\n",
    "import os\n",
    "filename = input(\"Nhập tên file .csv: \")\n",
    "file_exists = os.path.exists(filename)\n",
    "mode = \"a\" if file_exists else \"w\"\n",
    "with open(filename, mode, encoding=\"utf-8\") as f:\n",
    "    if not file_exists:\n",
    "        f.write(\"Tiêu đề, Tác giả, Sáng tác\\n\")\n",
    "    for i in range(5):\n",
    "        print(f\"\\n--- Nhà thơ thứ {i+1} ---\")\n",
    "        tieu_de = input(\"Tiêu đề: \")\n",
    "        tac_gia = input(\"Tác giả: \")\n",
    "        sang_tac = input(\"Sáng tác: \")\n",
    "        line = f\"{tieu_de}, {tac_gia}, {sang_tac}\\n\"\n",
    "        f.write(line)\n",
    "print(f\"\\n Đã ghi {i+1} nhà thơ vào file '{filename}' thành công!\")"
   ]
  },
  {
   "cell_type": "markdown",
   "id": "d36ea3d3",
   "metadata": {},
   "source": [
    "## Lab 7 - Bài 4"
   ]
  },
  {
   "cell_type": "code",
   "execution_count": 1,
   "id": "4c707ec1",
   "metadata": {},
   "outputs": [],
   "source": [
    "# code lab 7 bài 4 ở đây\n",
    "file_path = r\"D:\\FPT\\DAT2011-Python\\Bài Lab-20250916T025711Z-1-001\\Bài Lab\\DAT2011 - Lab 7 - Resource.txt\"\n",
    "with open(file_path, \"r\", encoding=\"utf-8\") as f:\n",
    "    lines = [line.strip() for line in f.readlines()]\n",
    "name = lines[0]\n",
    "author = lines[1]\n",
    "\n",
    "content = \"\\n\".join(lines[2:]).strip()\n",
    "sections = content.split(\"\\n\\n\") \n",
    "with open(\"hihihi.xml\", \"w\", encoding=\"utf-8\") as f:\n",
    "    f.write(\"<songs>\\n\")\n",
    "    f.write(f\"  <name>{name}</name>\\n\")\n",
    "    f.write(f\"  <author>{author}</author>\\n\")\n",
    "    for sec in sections:\n",
    "        f.write(f\"  <section>{sec.strip()}</section>\\n\")\n",
    "    f.write(\"</songs>\")"
   ]
  },
  {
   "cell_type": "markdown",
   "id": "e2b41d4a",
   "metadata": {},
   "source": [
    "## Lab 7 - Bài 5: bài tập làm thêm"
   ]
  },
  {
   "cell_type": "code",
   "execution_count": null,
   "id": "0e0172f7",
   "metadata": {},
   "outputs": [],
   "source": [
    "# code lab 7  bài làm thêm ở đây "
   ]
  }
 ],
 "metadata": {
  "kernelspec": {
   "display_name": "Python 3",
   "language": "python",
   "name": "python3"
  },
  "language_info": {
   "codemirror_mode": {
    "name": "ipython",
    "version": 3
   },
   "file_extension": ".py",
   "mimetype": "text/x-python",
   "name": "python",
   "nbconvert_exporter": "python",
   "pygments_lexer": "ipython3",
   "version": "3.13.7"
  }
 },
 "nbformat": 4,
 "nbformat_minor": 5
}
