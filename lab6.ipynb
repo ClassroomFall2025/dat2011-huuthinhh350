{
 "cells": [
  {
   "cell_type": "markdown",
   "id": "fdeff819",
   "metadata": {},
   "source": [
    "# Sinh Viên thực hiện Lab 6 ở Đây"
   ]
  },
  {
   "cell_type": "markdown",
   "id": "acc5d7dc",
   "metadata": {},
   "source": [
    "## Lab 6 - Bài 1"
   ]
  },
  {
   "cell_type": "code",
   "execution_count": 1,
   "id": "001e0507",
   "metadata": {},
   "outputs": [
    {
     "name": "stdout",
     "output_type": "stream",
     "text": [
      "Hình chữ nhật 1\n",
      "Chiều dài:4.0, chiều rộng:6.0\n",
      "Chu vi:20.0, diện tích:24.0\n",
      "\n",
      "Hình chữ nhật 2\n",
      "Chiều dài:6.0, chiều rộng:8.0\n",
      "Chu vi:28.0, diện tích:48.0\n",
      "\n",
      "Hình vuông\n",
      "Cạnh:5.0\n",
      "Chu vi:20.0, diện tích:25.0\n"
     ]
    }
   ],
   "source": [
    "# Code lab 6 bài 1 ở đây\n",
    "from lab6 import *\n",
    "dai1 = float(input(\"Nhập chiều dài: \"))\n",
    "rong1 = float(input(\"Nhập chiều rộng: \"))\n",
    "cn1 = Chu_Nhat(dai1, rong1)\n",
    "\n",
    "dai2 = float(input(\"Nhập chiều dài: \"))\n",
    "rong2 = float(input(\"Nhập chiều rộng: \"))\n",
    "cn2 = Chu_Nhat(dai2, rong2)\n",
    "\n",
    "canh = float(input(\"Nhập cạnh: \"))\n",
    "vu = Vuong(canh)\n",
    "\n",
    "print(\"Hình chữ nhật 1\")\n",
    "cn1.xuat_tt()\n",
    "print(\"\\nHình chữ nhật 2\")\n",
    "cn2.xuat_tt()\n",
    "print(\"\\nHình vuông\")\n",
    "vu.xuat_tt()"
   ]
  },
  {
   "cell_type": "markdown",
   "id": "c0835310",
   "metadata": {},
   "source": [
    "## Lab 6 - Bài 2"
   ]
  },
  {
   "cell_type": "code",
   "execution_count": 1,
   "id": "fa9cb39f",
   "metadata": {},
   "outputs": [
    {
     "name": "stdout",
     "output_type": "stream",
     "text": [
      "\n",
      "=========== MENU ===========\n",
      "1. Nhập danh sách sinh viên\n",
      "2. Xuất danh sách sinh viên\n",
      "3. Xuất danh sách sinh viên giỏi\n",
      "4. Sắp xếp danh sách theo điểm\n",
      "5. Kết thúc\n",
      "============================\n",
      "\n",
      "\n",
      "Kết thúc nhập thông tin sinh viên !!!\n",
      "\n",
      "\n",
      "=========== MENU ===========\n",
      "1. Nhập danh sách sinh viên\n",
      "2. Xuất danh sách sinh viên\n",
      "3. Xuất danh sách sinh viên giỏi\n",
      "4. Sắp xếp danh sách theo điểm\n",
      "5. Kết thúc\n",
      "============================\n",
      "\n",
      "=======================================================\n",
      "Tên sinh viên   | Ngành học |  Điểm |  Học lực  \n",
      "=======================================================\n",
      "thịnh                it         9.0      xuất sắc  \n",
      "=======================================================\n",
      "\n",
      "=========== MENU ===========\n",
      "1. Nhập danh sách sinh viên\n",
      "2. Xuất danh sách sinh viên\n",
      "3. Xuất danh sách sinh viên giỏi\n",
      "4. Sắp xếp danh sách theo điểm\n",
      "5. Kết thúc\n",
      "============================\n",
      "\n",
      "Kết thúc chương trình!\n"
     ]
    }
   ],
   "source": [
    "from quanlysinhvien import *\n",
    "\n",
    "ql = QuanLySinhVien()\n",
    "\n",
    "while True:\n",
    "    print(\"\"\"\n",
    "=========== MENU ===========\n",
    "1. Nhập danh sách sinh viên\n",
    "2. Xuất danh sách sinh viên\n",
    "3. Xuất danh sách sinh viên giỏi\n",
    "4. Sắp xếp danh sách theo điểm\n",
    "5. Kết thúc\n",
    "============================\n",
    "\"\"\")\n",
    "    chon = input(\"Chọn chức năng (1-5): \")\n",
    "\n",
    "    if chon == \"1\":\n",
    "        ql.nhap_dssv()\n",
    "    elif chon == \"2\":\n",
    "        ql.xuat_dssv()\n",
    "    elif chon == \"3\":\n",
    "        ql.xuat_dssv_gioi()\n",
    "    elif chon == \"4\":\n",
    "        ql.sap_xep_dssv()\n",
    "    elif chon == \"5\":\n",
    "        print(\"Kết thúc chương trình!\")\n",
    "        break\n",
    "    else:\n",
    "        print(\"Lựa chọn không hợp lệ, vui lòng nhập lại!\")"
   ]
  },
  {
   "cell_type": "markdown",
   "id": "0f2483fe",
   "metadata": {},
   "source": [
    "## Lab 6 - Bài 3"
   ]
  },
  {
   "cell_type": "code",
   "execution_count": null,
   "id": "7034990b",
   "metadata": {},
   "outputs": [],
   "source": [
    "# Code lab 6  bài 3 ở đây"
   ]
  },
  {
   "cell_type": "markdown",
   "id": "d36ea3d3",
   "metadata": {},
   "source": [
    "## Lab 6 - Bài 4"
   ]
  },
  {
   "cell_type": "code",
   "execution_count": null,
   "id": "4c707ec1",
   "metadata": {},
   "outputs": [],
   "source": [
    "# code lab 6 bài 4 ở đây"
   ]
  },
  {
   "cell_type": "markdown",
   "id": "e2b41d4a",
   "metadata": {},
   "source": [
    "## Lab 6 - Bài 5: bài tập làm thêm"
   ]
  },
  {
   "cell_type": "code",
   "execution_count": null,
   "id": "0e0172f7",
   "metadata": {},
   "outputs": [],
   "source": [
    "# code lab 6  bài làm thêm ở đây "
   ]
  }
 ],
 "metadata": {
  "kernelspec": {
   "display_name": "Python 3",
   "language": "python",
   "name": "python3"
  },
  "language_info": {
   "codemirror_mode": {
    "name": "ipython",
    "version": 3
   },
   "file_extension": ".py",
   "mimetype": "text/x-python",
   "name": "python",
   "nbconvert_exporter": "python",
   "pygments_lexer": "ipython3",
   "version": "3.13.7"
  }
 },
 "nbformat": 4,
 "nbformat_minor": 5
}
