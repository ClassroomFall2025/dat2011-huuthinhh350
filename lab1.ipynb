{
 "cells": [
  {
   "cell_type": "markdown",
   "id": "fdeff819",
   "metadata": {},
   "source": [
    "# Sinh Viên thực hiện Lab 1 ở Đây"
   ]
  },
  {
   "cell_type": "markdown",
   "id": "acc5d7dc",
   "metadata": {},
   "source": [
    "## Lab 1 - Bài 1"
   ]
  },
  {
   "cell_type": "code",
   "execution_count": 2,
   "id": "001e0507",
   "metadata": {},
   "outputs": [
    {
     "name": "stdout",
     "output_type": "stream",
     "text": [
      "Xin chào!\n",
      "Tôi tên là Nguyễn Hữu Thịnh\n",
      "Tôi đến từ Vũng Tàu\n"
     ]
    }
   ],
   "source": [
    "# Code lab 1 bài 1 ở đây4\n",
    "print(\"Xin chào!\")\n",
    "print(\"Tôi tên là Nguyễn Hữu Thịnh\")\n",
    "print(\"Tôi đến từ Vũng Tàu\")"
   ]
  },
  {
   "cell_type": "markdown",
   "id": "c0835310",
   "metadata": {},
   "source": [
    "## Lab 1 - Bài 2"
   ]
  },
  {
   "cell_type": "code",
   "execution_count": 2,
   "id": "fa9cb39f",
   "metadata": {},
   "outputs": [
    {
     "name": "stdout",
     "output_type": "stream",
     "text": [
      "Diện tích hình chữ nhật là:  40.0\n",
      "Chu vi hình chữ nhật là:  26.0\n"
     ]
    }
   ],
   "source": [
    "# Code lab 1  bài 2 ở đây\n",
    "dai = float(input(\"Nhập chiều dài: \"))\n",
    "rong = float(input(\"Nhập chiều rộng: \"))\n",
    "dien_tich = dai * rong\n",
    "chu_vi = (dai + rong) * 2\n",
    "print(\"Diện tích hình chữ nhật là: \",dien_tich)\n",
    "print(\"Chu vi hình chữ nhật là: \",chu_vi)"
   ]
  },
  {
   "cell_type": "markdown",
   "id": "0f2483fe",
   "metadata": {},
   "source": [
    "## Lab 1 - Bài 3"
   ]
  },
  {
   "cell_type": "code",
   "execution_count": 8,
   "id": "7034990b",
   "metadata": {},
   "outputs": [
    {
     "name": "stdout",
     "output_type": "stream",
     "text": [
      "\"...\n",
      "Sống trong đời sống cần có một tấm lòng\n",
      "Sống mỉm cười, với thử thách chông gai\n",
      "Sống vươn lên, theo kịp ánh ban mai\n",
      "Sống chan hòa, với những người chung sống.\n",
      "\n",
      "Sống là động, nhưng lòng luôn bất động\n",
      "Sống là thương, nhưng lòng chẳng vấn vương\n",
      "Sống yên vui, danh lợi mãi coi thường\n",
      "Tâm bất biến, giữa dòng đời vạn biến.\n",
      "...\"\n"
     ]
    }
   ],
   "source": [
    "# Code lab 1  bài 3 ở đây\n",
    "song = \"Sống\"\n",
    "print('\"...')\n",
    "print(f\"{song} trong đời sống cần có một tấm lòng\")\n",
    "print(f\"{song} mỉm cười, với thử thách chông gai\")\n",
    "print(f\"{song} vươn lên, theo kịp ánh ban mai\")\n",
    "print(f\"{song} chan hòa, với những người chung sống.\")\n",
    "print()\n",
    "print(f\"{song} là động, nhưng lòng luôn bất động\")\n",
    "print(f\"{song} là thương, nhưng lòng chẳng vấn vương\")\n",
    "print(f\"{song} yên vui, danh lợi mãi coi thường\")\n",
    "print(\"Tâm bất biến, giữa dòng đời vạn biến.\")\n",
    "print('...\"')"
   ]
  },
  {
   "cell_type": "markdown",
   "id": "d36ea3d3",
   "metadata": {},
   "source": [
    "## Lab 1 - Bài 4"
   ]
  },
  {
   "cell_type": "code",
   "execution_count": 7,
   "id": "4c707ec1",
   "metadata": {},
   "outputs": [
    {
     "name": "stdout",
     "output_type": "stream",
     "text": [
      "Delta =  32.0\n",
      "Căn Delta = 5.656854249492381\n"
     ]
    }
   ],
   "source": [
    "# code lab 1 bài 4 ở đây\n",
    "import math\n",
    "a = float(input(\"Nhập a: \"))\n",
    "b = float(input(\"Nhập b: \"))\n",
    "c = float(input(\"Nhập c: \"))\n",
    "delta = b * b - 4 *a * c\n",
    "print(\"Delta = \",abs(delta))\n",
    "print(\"Căn Delta =\",math.sqrt(abs(delta)))"
   ]
  },
  {
   "cell_type": "markdown",
   "id": "e2b41d4a",
   "metadata": {},
   "source": [
    "## Lab 1 - Bài 5: bài tập làm thêm"
   ]
  },
  {
   "cell_type": "code",
   "execution_count": 6,
   "id": "0e0172f7",
   "metadata": {},
   "outputs": [
    {
     "name": "stdout",
     "output_type": "stream",
     "text": [
      "Cộng:  5.0\n",
      "Trừ:  -1.0\n",
      "Nhân:  6.0\n",
      "Chia:  0.6666666666666666\n",
      "Lũy thừa:  8.0\n",
      "Căn bậc hai của 6.0 là:  2.449489742783178\n"
     ]
    }
   ],
   "source": [
    "# code lab 1  bài làm thêm ở đây \n",
    "import math\n",
    "# Câu 1: Phép tính cơ bản\n",
    "a = float(input(\"Nhập số a: \"))\n",
    "b = float(input(\"Nhập số b: \"))\n",
    "print(\"Cộng: \", a + b)\n",
    "print(\"Trừ: \", a - b)\n",
    "print(\"Nhân: \", a * b)\n",
    "print(\"Chia: \", a / b)\n",
    "# Câu 2: Lũy thừa\n",
    "x = float(input(\"Nhập x: \"))\n",
    "y = float(input(\"Nhập y: \"))\n",
    "print(\"Lũy thừa: \", math.pow(x, y))\n",
    "# Câu 3: Căn bậc hai\n",
    "z = float(input(\"Nhập z: \"))\n",
    "print(\"Căn bậc hai của\", z, \"là: \", math.sqrt(z))"
   ]
  }
 ],
 "metadata": {
  "kernelspec": {
   "display_name": "Python 3",
   "language": "python",
   "name": "python3"
  },
  "language_info": {
   "codemirror_mode": {
    "name": "ipython",
    "version": 3
   },
   "file_extension": ".py",
   "mimetype": "text/x-python",
   "name": "python",
   "nbconvert_exporter": "python",
   "pygments_lexer": "ipython3",
   "version": "3.13.7"
  }
 },
 "nbformat": 4,
 "nbformat_minor": 5
}
