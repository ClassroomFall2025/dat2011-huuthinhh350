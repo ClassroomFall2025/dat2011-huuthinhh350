{
 "cells": [
  {
   "cell_type": "markdown",
   "id": "fdeff819",
   "metadata": {},
   "source": [
    "# Sinh Viên thực hiện Lab 5 ở Đây"
   ]
  },
  {
   "cell_type": "markdown",
   "id": "acc5d7dc",
   "metadata": {},
   "source": [
    "## Lab 5 - Bài 1"
   ]
  },
  {
   "cell_type": "code",
   "execution_count": 2,
   "id": "001e0507",
   "metadata": {},
   "outputs": [
    {
     "name": "stdout",
     "output_type": "stream",
     "text": [
      "sản phẩm Iphine  có giá 1000.0 và được giảm giá 500.0\n"
     ]
    }
   ],
   "source": [
    "# Code lab 5 bài 1 ở đây\n",
    "from sp import *\n",
    "sp1 = SanPham(\"\",\"\",\"\")\n",
    "sp1.nhap_sp()\n",
    "sp1.xuat_tt_sp()"
   ]
  },
  {
   "cell_type": "markdown",
   "id": "c0835310",
   "metadata": {},
   "source": [
    "## Lab 5 - Bài 2"
   ]
  },
  {
   "cell_type": "code",
   "execution_count": null,
   "id": "fa9cb39f",
   "metadata": {},
   "outputs": [
    {
     "name": "stdout",
     "output_type": "stream",
     "text": [
      "sản phẩm bánh có giá 10000.0 và được giảm giá 5000.0\n",
      "sản phẩm kẹo có giá 5000.0 và được giảm giá 2000.0\n"
     ]
    }
   ],
   "source": [
    "# Code lab 5  bài 2 ở đây\n",
    "from sp import *\n",
    "sp1 = SanPham(\"\",\"\",\"\")\n",
    "sp2 = SanPham(\"\",\"\",\"\")\n",
    "sp1.nhap_sp()\n",
    "sp2.nhap_sp()\n",
    "sp1.xuat_tt_sp()\n",
    "sp2.xuat_tt_sp()"
   ]
  },
  {
   "cell_type": "markdown",
   "id": "0f2483fe",
   "metadata": {},
   "source": [
    "## Lab 5 - Bài 3"
   ]
  },
  {
   "cell_type": "code",
   "execution_count": null,
   "id": "7034990b",
   "metadata": {},
   "outputs": [],
   "source": [
    "# Code lab 5  bài 3 ở đây\n",
    "from sp import *\n",
    "sp1 = SanPham(\"\",\"\",\"\")\n",
    "sp1.nhap_sp()\n",
    "sp1.xuat_tt_sp()\n",
    "print(sp1.__ten_san_pham)\n",
    "print(sp1.get_ten())"
   ]
  },
  {
   "cell_type": "markdown",
   "id": "d36ea3d3",
   "metadata": {},
   "source": [
    "## Lab 5 - Bài 4"
   ]
  },
  {
   "cell_type": "code",
   "execution_count": 1,
   "id": "4c707ec1",
   "metadata": {},
   "outputs": [
    {
     "name": "stdout",
     "output_type": "stream",
     "text": [
      "\n",
      "--- THÔNG TIN SẢN PHẨM 1 ---\n",
      "sản phẩm bánh có giá 100.0 và được giảm giá 50.0 và thuế nhập khẩu: 10.0\n",
      "\n",
      "--- THÔNG TIN SẢN PHẨM 2 ---\n",
      "sản phẩm kẹo có giá 200.0 và được giảm giá 50.0 và thuế nhập khẩu: 20.0\n"
     ]
    }
   ],
   "source": [
    "# code lab 5 bài 4 ở đây\n",
    "from sp import *\n",
    "\n",
    "# print(\"Nhập thông tin sản phẩm 1:\")\n",
    "ten1 = input(\"Tên sản phẩm: \")\n",
    "gia1 = float(input(\"Giá sản phẩm: \"))\n",
    "giam_gia1 = float(input(\"Giảm giá: \"))\n",
    "\n",
    "# print(\"\\nNhập thông tin sản phẩm 2:\")\n",
    "ten2 = input(\"Tên sản phẩm: \")\n",
    "gia2 = float(input(\"Giá sản phẩm: \"))\n",
    "giam_gia2 = float(input(\"Giảm giá: \"))\n",
    "\n",
    "#Tạo 2 đối tượng sử dụng hàm khởi tạo\n",
    "sp1 = SanPham(ten1, gia1, giam_gia1)\n",
    "sp2 = SanPham(ten2, gia2, giam_gia2)\n",
    "\n",
    "#Xuất thông tin của 2 sản phẩm\n",
    "print(\"\\n--- THÔNG TIN SẢN PHẨM 1 ---\")\n",
    "sp1.xuat_tt_sp()\n",
    "\n",
    "print(\"\\n--- THÔNG TIN SẢN PHẨM 2 ---\")\n",
    "sp2.xuat_tt_sp()"
   ]
  },
  {
   "cell_type": "markdown",
   "id": "e2b41d4a",
   "metadata": {},
   "source": [
    "## Lab 5 - Bài 5: bài tập làm thêm"
   ]
  },
  {
   "cell_type": "code",
   "execution_count": null,
   "id": "0e0172f7",
   "metadata": {},
   "outputs": [],
   "source": [
    "# code lab 5  bài làm thêm ở đây "
   ]
  }
 ],
 "metadata": {
  "kernelspec": {
   "display_name": "Python 3",
   "language": "python",
   "name": "python3"
  },
  "language_info": {
   "codemirror_mode": {
    "name": "ipython",
    "version": 3
   },
   "file_extension": ".py",
   "mimetype": "text/x-python",
   "name": "python",
   "nbconvert_exporter": "python",
   "pygments_lexer": "ipython3",
   "version": "3.13.7"
  }
 },
 "nbformat": 4,
 "nbformat_minor": 5
}
